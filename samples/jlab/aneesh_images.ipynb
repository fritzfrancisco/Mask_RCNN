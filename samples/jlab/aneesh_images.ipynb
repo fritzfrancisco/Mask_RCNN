{
 "cells": [
  {
   "cell_type": "code",
   "execution_count": null,
   "metadata": {},
   "outputs": [],
   "source": [
    "import numpy as np\n",
    "import h5py\n",
    "import cv2\n",
    "import os\n",
    "\n",
    "import matplotlib.pyplot as plt"
   ]
  },
  {
   "cell_type": "code",
   "execution_count": null,
   "metadata": {},
   "outputs": [],
   "source": [
    "from scipy.ndimage.measurements import label\n",
    "\n",
    "def repair_masks(masks, keep_threshold=10):\n",
    "    for layer in range(masks.shape[2]):\n",
    "        img = masks[:, :, layer]\n",
    "        labeled, n = label(img)\n",
    "        if n > 1:\n",
    "            areas = np.array([np.sum(labeled == i) for i in np.arange(n) + 1])\n",
    "            idx = (np.arange(n) + 1)[areas < keep_threshold]\n",
    "            img[np.isin(labeled, idx)] = 0\n",
    "        masks[:, :, layer] = img\n",
    "    return masks"
   ]
  },
  {
   "cell_type": "code",
   "execution_count": null,
   "metadata": {
    "scrolled": false
   },
   "outputs": [],
   "source": [
    "def generate_tiles(img, size=512, overlap=100, shifts=1):\n",
    "    height, width = img.shape[:2]\n",
    "    origins = np.mgrid[0:height:(size // shifts - overlap),0:width:(size // shifts - overlap)].T.reshape(-1,2)\n",
    "    imgs = []\n",
    "    for tl in origins:\n",
    "        tile = img[tl[0]:(tl[0] + size), tl[1]:(tl[1] + size)]\n",
    "        if tile.shape[0] < size and tile.shape[1] == size:\n",
    "            tile = img[(height - size):height, tl[1]:(tl[1] + size)]\n",
    "        elif tile.shape[0] == size and tile.shape[1] < size:\n",
    "            tile = img[tl[0]:(tl[0] + size), (width - size):width]\n",
    "        elif tile.shape[0] < size and tile.shape[1] < size:\n",
    "            tile = img[(height - size):height, (width - size):width]\n",
    "        imgs.append(tile)\n",
    "    return np.stack(imgs, axis=2)\n",
    "\n",
    "def stitch_tiles(tiles, target_shape, size=512, overlap=100, shifts=1, flatten=False):\n",
    "    height, width = target_shape[:2]\n",
    "    origins = np.mgrid[0:height:(size // shifts - overlap),0:width:(size // shifts - overlap)].T.reshape(-1,2)\n",
    "    img = np.zeros((height, width, *tiles.shape[2:]), dtype=np.uint8)\n",
    "    for idx, tl in enumerate(origins):\n",
    "        if tl[0] + size > height:\n",
    "            tl[0] = height - size\n",
    "        if tl[1] + size > width:\n",
    "            tl[1] = width - size\n",
    "        img[tl[0]:(tl[0] + size), tl[1]:(tl[1] + size), idx] = tiles[:, :, idx]\n",
    "    if flatten:\n",
    "        img = img.sum(axis=2) > 0\n",
    "    return img"
   ]
  },
  {
   "cell_type": "code",
   "execution_count": null,
   "metadata": {},
   "outputs": [],
   "source": [
    "def get_annotations(img, masks, class_names=None, size=512, overlap=100, shifts=1):\n",
    "\n",
    "    img_tiles = generate_tiles(img, size, overlap, shifts)\n",
    "    mask_tiles = generate_tiles(masks, size, overlap, shifts)\n",
    "\n",
    "    non_empty = mask_tiles.sum(axis=(0, 1)) > 0\n",
    "\n",
    "    img_tiles = img_tiles[:, :, non_empty.sum(axis=1) > 0, :]\n",
    "    mask_tiles = mask_tiles[:, :, non_empty.sum(axis=1) > 0, :]\n",
    "\n",
    "    annotations = []\n",
    "    pixel_sums = []\n",
    "    for idx in range(img_tiles.shape[2]):\n",
    "        layers = mask_tiles[:, :, idx].copy()\n",
    "        layer_class_names = class_names[layers.sum(axis=(0, 1)) > 0]\n",
    "        layers = layers[:, :, layers.sum(axis=(0, 1)) > 0]        \n",
    "        pixel_sum = img_tiles[:, :, idx].sum()\n",
    "        if pixel_sum not in pixel_sums and np.all(layers.sum(axis=(0, 1)) > 900):\n",
    "            pixel_sums.append(pixel_sum)\n",
    "            annotations.append((img_tiles[:, :, idx], layers, layer_class_names))\n",
    "            \n",
    "    return annotations\n",
    "\n",
    "def plot_annotations(annotations):\n",
    "    for img_tile, tile_layers, class_names in annotations:\n",
    "        fig, axes = plt.subplots(1, 2, figsize=(5, 5))\n",
    "        axes[0].imshow(img_tile)\n",
    "        axes[1].imshow(tile_layers.sum(axis=2))\n",
    "        print(*class_names)\n",
    "        plt.show()"
   ]
  },
  {
   "cell_type": "code",
   "execution_count": null,
   "metadata": {
    "scrolled": false
   },
   "outputs": [],
   "source": [
    "directory = '/home/jordanlab/Documents/'\n",
    "with h5py.File(os.path.join(directory, 'multi_brevis_512.h5'), 'a') as new_annotation:\n",
    "    new_annotation.create_dataset('annotations', shape=(0, ), maxshape=(None,), dtype='|S400')\n",
    "    with h5py.File(os.path.join(directory, 'multi_brevis.h5'), 'r') as annotation:\n",
    "        for image in annotation['image_tiles'][:].astype(np.str): # list(annotation.keys())[1:]: # version huy / very old version\n",
    "            \n",
    "#             img = cv2.imread(os.path.join(directory, image))[:, :, ::-1] # very old version\n",
    "\n",
    "            img = annotation[image]['image'][:] # version huy\n",
    "            masks = repair_masks(annotation[image]['mask'][:]) # version huy\n",
    "            class_names = annotation[image]['classes'][:].astype(np.str) # version huy\n",
    "#             class_names = None # very old version\n",
    "            \n",
    "#             masks = [] # very old version\n",
    "#             for mask in list(annotation[image].keys()): # very old version\n",
    "#                 masks.append(annotation[image][mask]) # very old version\n",
    "#             masks = np.stack(masks, axis=2) # very old version\n",
    "\n",
    "            image = image.replace('\\\\', '/')\n",
    "\n",
    "            annotations = get_annotations(img, masks, class_names=class_names, size=1024, overlap=100, shifts=3)\n",
    "            for idx, (img_tile, tile_layers, class_names) in enumerate(annotations):\n",
    "                path = os.path.join(image, str(idx))\n",
    "                ann = new_annotation.create_group(path)\n",
    "                ann.create_dataset('image', data=img_tile)\n",
    "                ann.create_dataset('mask', data=tile_layers, compression=\"gzip\", compression_opts=9)\n",
    "#                 class_names = np.array(['multifasciatus'] * tile_layers.shape[2]).astype(np.bytes_) # very old version\n",
    "                ann.create_dataset('class_names', data=class_names.astype(np.bytes_))\n",
    "                new_annotation['annotations'].resize((new_annotation['annotations'].shape[0] + 1,))\n",
    "                new_annotation['annotations'][-1] = np.bytes_(path)\n",
    "            print(image)"
   ]
  },
  {
   "cell_type": "code",
   "execution_count": null,
   "metadata": {
    "scrolled": false
   },
   "outputs": [],
   "source": [
    "directory = '/home/jordanlab/Documents/'\n",
    "# with h5py.File(os.path.join(directory, 'filename.h5'), 'a') as new_annotation:\n",
    "#     new_annotation.create_dataset('annotations', shape=(0, ), maxshape=(None,), dtype='|S400')\n",
    "with h5py.File(os.path.join(directory, 'multi_brevis.h5'), 'r') as annotation:\n",
    "    for image in annotation['image_tiles'][:].astype(np.str):\n",
    "\n",
    "        img = annotation[image]['image'][:] # version huy\n",
    "        masks = repair_masks(annotation[image]['mask'][:]) # version huy\n",
    "        class_names = annotation[image]['classes'][:].astype(np.str) # version huy\n",
    "\n",
    "        path = image.replace('\\\\', '/')\n",
    "        path = path.replace('/', '-').replace(':', '').replace(' ', '_')[:-2]\n",
    "#             ann = new_annotation.create_group(path)\n",
    "#             ann.create_dataset('image', data=img)\n",
    "#             ann.create_dataset('mask', data=masks, compression=\"gzip\", compression_opts=9)\n",
    "#             ann.create_dataset('class_names', data=class_names.astype(np.bytes_))\n",
    "#             new_annotation['annotations'].resize((new_annotation['annotations'].shape[0] + 1,))\n",
    "#             new_annotation['annotations'][-1] = np.bytes_(path)\n",
    "        cv2.imwrite(os.path.join('/media/jordanlab/S12/huy', path), img)\n",
    "        print(os.path.join('/media/jordanlab/S12/huy', path))"
   ]
  },
  {
   "cell_type": "code",
   "execution_count": null,
   "metadata": {},
   "outputs": [],
   "source": [
    "mask_tiles = generate_tiles(masks)\n",
    "stitched_masks = stitch_tiles(mask_tiles, masks.shape)"
   ]
  },
  {
   "cell_type": "code",
   "execution_count": null,
   "metadata": {},
   "outputs": [],
   "source": [
    "stitched_masks = stitched_masks.sum(axis=(2, 3)) > 0\n",
    "fig, ax = plt.subplots(figsize=(10, 10))\n",
    "plt.imshow(stitched_masks)"
   ]
  }
 ],
 "metadata": {
  "kernelspec": {
   "display_name": "Python 3",
   "language": "python",
   "name": "python3"
  },
  "language_info": {
   "codemirror_mode": {
    "name": "ipython",
    "version": 3
   },
   "file_extension": ".py",
   "mimetype": "text/x-python",
   "name": "python",
   "nbconvert_exporter": "python",
   "pygments_lexer": "ipython3",
   "version": "3.7.3"
  }
 },
 "nbformat": 4,
 "nbformat_minor": 2
}
